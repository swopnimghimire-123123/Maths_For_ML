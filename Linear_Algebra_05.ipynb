{
  "nbformat": 4,
  "nbformat_minor": 0,
  "metadata": {
    "colab": {
      "provenance": [],
      "authorship_tag": "ABX9TyNC4Q4AJaDlcv+2NmK56Qbs",
      "include_colab_link": true
    },
    "kernelspec": {
      "name": "python3",
      "display_name": "Python 3"
    },
    "language_info": {
      "name": "python"
    }
  },
  "cells": [
    {
      "cell_type": "markdown",
      "metadata": {
        "id": "view-in-github",
        "colab_type": "text"
      },
      "source": [
        "<a href=\"https://colab.research.google.com/github/swopnimghimire-123123/Maths_For_ML/blob/main/Linear_Algebra_05.ipynb\" target=\"_parent\"><img src=\"https://colab.research.google.com/assets/colab-badge.svg\" alt=\"Open In Colab\"/></a>"
      ]
    },
    {
      "cell_type": "markdown",
      "source": [
        "# Three-dimensional linear transformations"
      ],
      "metadata": {
        "id": "7RROjOuB_c5r"
      }
    },
    {
      "cell_type": "code",
      "execution_count": null,
      "metadata": {
        "colab": {
          "base_uri": "https://localhost:8080/"
        },
        "id": "adc0WSew_SQ3",
        "outputId": "bf0d17f4-9e58-4a0b-9933-6d7a8703b0f7"
      },
      "outputs": [
        {
          "output_type": "stream",
          "name": "stdout",
          "text": [
            "original vector: [1 2 3]\n",
            "transformed vector: [5 5 3]\n"
          ]
        }
      ],
      "source": [
        "import numpy as np\n",
        "\n",
        "# original vector\n",
        "v = np.array([1,2,3])\n",
        "\n",
        "# 3d transformation matrix\n",
        "A = np.array([[2,0,1],\n",
        "              [-1,3,0],\n",
        "              [0,0,1]])\n",
        "\n",
        "# applied trasformation\n",
        "v_transformed = A.dot(v) # v_transformed = A @ v\n",
        "print(\"original vector:\",v)\n",
        "print(\"transformed vector:\",v_transformed)"
      ]
    },
    {
      "cell_type": "markdown",
      "source": [
        "### Other Linear Transformations on Vectors\n",
        "\n",
        "Besides scaling, rotation, shear, and reflection, there are several other transformations we can apply using matrices:\n",
        "\n",
        "1. **Projection**  \n",
        "   - Projects a vector onto a line, plane, or subspace.  \n",
        "   - Example: projecting `[x, y, z]` onto the xy-plane sets z = 0.  \n",
        "   - Matrix form:  \n",
        "     ```\n",
        "     [[1, 0, 0],\n",
        "      [0, 1, 0],\n",
        "      [0, 0, 0]]\n",
        "     ```\n",
        "\n",
        "2. **Permutation (Axis Swap)**  \n",
        "   - Rearranges vector components.  \n",
        "   - Example: swapping x and y in `[x, y, z]`.  \n",
        "   - Matrix form:  \n",
        "     ```\n",
        "     [[0, 1, 0],\n",
        "      [1, 0, 0],\n",
        "      [0, 0, 1]]\n",
        "     ```\n",
        "\n",
        "3. **Orthogonal Transformation**  \n",
        "   - Preserves lengths and angles (rotations + reflections).  \n",
        "   - All orthogonal matrices have determinant = ±1.\n",
        "\n",
        "4. **Identity Transformation**  \n",
        "   - Leaves vectors unchanged.  \n",
        "   - Matrix form: identity matrix `I`.\n",
        "\n",
        "5. **Zero Transformation**  \n",
        "   - Sends every vector to the zero vector.  \n",
        "   - Matrix form: all entries are 0.\n",
        "\n",
        "---\n"
      ],
      "metadata": {
        "id": "5SYdgObaCYND"
      }
    },
    {
      "cell_type": "code",
      "source": [
        "import numpy as np\n",
        "\n",
        "# original vector\n",
        "v = np.array([2,3,4])\n",
        "print(\"Original Vector:\",v)\n",
        "\n",
        "# 1. Projection onto xy plane\n",
        "p = np.array([[1,0,0],\n",
        "              [0,1,0],\n",
        "              [0,0,0]])\n",
        "v_projection = p.dot(v) # dot product and projection are the same thing\n",
        "print(\"Projection onto xy plane:\",v_projection)\n",
        "\n",
        "# 2.permutation (swap x and y)\n",
        "perm = np.array([[0,1,0],\n",
        "                 [1,0,0],\n",
        "                 [0,0,1]])\n",
        "v_permuted = perm.dot(v)\n",
        "print(\"Permuted Vector:\",v_permuted)\n",
        "\n",
        "# 3.orthogonal transformation (rotation around z axis 90 degree)\n",
        "orth = np.array([[0,-1,0],\n",
        "                 [1,0,0],\n",
        "                 [0,0,1]])\n",
        "v_orth = orth.dot(v)\n",
        "print(\"Orthogonal Transformation:\",v_orth)\n",
        "\n",
        "# identity transformation\n",
        "i = np.eye(3)\n",
        "v_id = i @ v\n",
        "print(\"Identity matrix:\",v_id)\n",
        "\n",
        "# zero transformation\n",
        "z = np.zeros((3,3))\n",
        "v_zero = z @ v\n",
        "print(\"Zero matrix:\",v_zero)\n"
      ],
      "metadata": {
        "colab": {
          "base_uri": "https://localhost:8080/"
        },
        "id": "rHpIuBCM_X-4",
        "outputId": "b9345116-aac8-4850-d1cd-b7a8ce539c8d"
      },
      "execution_count": null,
      "outputs": [
        {
          "output_type": "stream",
          "name": "stdout",
          "text": [
            "Original Vector: [2 3 4]\n",
            "Projection onto xy plane: [2 3 0]\n",
            "Permuted Vector: [3 2 4]\n",
            "Orthogonal Transformation: [-3  2  4]\n",
            "Identity matrix: [2. 3. 4.]\n",
            "Zero matrix: [0. 0. 0.]\n"
          ]
        }
      ]
    },
    {
      "cell_type": "markdown",
      "source": [
        "#  Determinant and Its Meaning in Linear Transformations\n",
        "\n",
        "###  Definition\n",
        "- The **determinant** of a square matrix measures how a **linear transformation** changes area (2D) or volume (3D).  \n",
        "- For a 2×2 matrix:\n",
        "\\[\n",
        "A = \\begin{bmatrix} a & b \\\\ c & d \\end{bmatrix}, \\quad \\det(A) = ad - bc\n",
        "\\]  \n",
        "- For a 3×3 matrix:\n",
        "\\[\n",
        "A = \\begin{bmatrix} a & b & c \\\\ d & e & f \\\\ g & h & i \\end{bmatrix}, \\quad\n",
        "\\det(A) = a(ei - fh) - b(di - fg) + c(dh - eg)\n",
        "\\]\n",
        "\n",
        "---\n",
        "\n",
        "###  Geometric Meaning\n",
        "1. **Scaling of area/volume**  \n",
        "   - In 2D: \\(|\\det(A)|\\) = factor by which the area of a shape is scaled.  \n",
        "   - In 3D: \\(|\\det(A)|\\) = factor by which volume is scaled.\n",
        "\n",
        "2. **Orientation**\n",
        "   - \\(\\det(A) > 0\\) → preserves orientation (no flipping).  \n",
        "   - \\(\\det(A) < 0\\) → reverses orientation (flips space).\n",
        "\n",
        "3. **Special Cases**\n",
        "   - \\(\\det(A) = 0\\) → transformation **collapses space**, e.g., a square becomes a line or a plane becomes a line; the matrix is **singular**.\n",
        "\n",
        "---\n",
        "\n",
        "###  Example\n",
        "- Matrix: \\(A = [[2, 1], [3, 4]]\\)  \n",
        "- Determinant: \\(\\det(A) = 2*4 - 3*1 = 5\\)  \n",
        "- Meaning: Any area in the plane is **scaled 5×** under this transformation.\n"
      ],
      "metadata": {
        "id": "nmFp7SuwKXAT"
      }
    },
    {
      "cell_type": "code",
      "source": [
        "import numpy as np\n",
        "\n",
        "# 2x2 matrix\n",
        "A = np.array([[2, 1],\n",
        "              [3, 4]])\n",
        "\n",
        "det_A = np.linalg.det(A)\n",
        "print(\"Matrix:\\n\", A)\n",
        "print(\"Determinant:\", det_A)\n",
        "\n",
        "# taking a 3x3 matrix\n",
        "B = np.array([[1, 2, 3],\n",
        "              [0, 4, 5],\n",
        "              [1, 0, 6]])\n",
        "\n",
        "det_B = np.linalg.det(B)\n",
        "print(\"\\n3x3 Matrix:\\n\", B)\n",
        "print(\"Determinant:\", det_B)"
      ],
      "metadata": {
        "colab": {
          "base_uri": "https://localhost:8080/"
        },
        "id": "txYEZ82H_YB0",
        "outputId": "9faae8fc-42b5-45a1-f87f-6fe55c664618"
      },
      "execution_count": null,
      "outputs": [
        {
          "output_type": "stream",
          "name": "stdout",
          "text": [
            "Matrix:\n",
            " [[2 1]\n",
            " [3 4]]\n",
            "Determinant: 5.000000000000001\n",
            "\n",
            "3x3 Matrix:\n",
            " [[1 2 3]\n",
            " [0 4 5]\n",
            " [1 0 6]]\n",
            "Determinant: 22.000000000000004\n"
          ]
        }
      ]
    },
    {
      "cell_type": "markdown",
      "source": [
        "### `fun fact:`  det(M1M2) = det(M1) det(M2)"
      ],
      "metadata": {
        "id": "KpMBpj2AOQBl"
      }
    }
  ]
}