{
  "nbformat": 4,
  "nbformat_minor": 0,
  "metadata": {
    "colab": {
      "provenance": [],
      "authorship_tag": "ABX9TyPG8nnX3I5ilAk/kMtlRJzw",
      "include_colab_link": true
    },
    "kernelspec": {
      "name": "python3",
      "display_name": "Python 3"
    },
    "language_info": {
      "name": "python"
    }
  },
  "cells": [
    {
      "cell_type": "markdown",
      "metadata": {
        "id": "view-in-github",
        "colab_type": "text"
      },
      "source": [
        "<a href=\"https://colab.research.google.com/github/swopnimghimire-123123/Maths_For_ML/blob/main/Linear_Algebra_3.ipynb\" target=\"_parent\"><img src=\"https://colab.research.google.com/assets/colab-badge.svg\" alt=\"Open In Colab\"/></a>"
      ]
    },
    {
      "cell_type": "markdown",
      "source": [
        "# Linear transformation\n",
        "\n",
        "Visually speaking, a transformation is \"linear\" if it has two properties:\n",
        "\n",
        "- All lines must remain lines, without getting curved.\n",
        "- The origin must remain fixed in place.\n",
        "\n"
      ],
      "metadata": {
        "id": "3hiDQgHgNDcT"
      }
    },
    {
      "cell_type": "markdown",
      "source": [
        "#  Linear Transformation – Theory\n",
        "\n",
        "###  Definition\n",
        "- A **linear transformation** is a function \\(T\\) that maps vectors from one vector space to another (or the same space) while preserving **vector addition** and **scalar multiplication**.  \n",
        "- Mathematically:\n",
        "\\[\n",
        "T(c_1v_1 + c_2v_2) = c_1 T(v_1) + c_2 T(v_2)\n",
        "\\]  \n",
        "for any vectors \\(v_1, v_2\\) and scalar \\(c_1, c_2\\).\n",
        "\n",
        "---\n",
        "\n",
        "###  Examples\n",
        "1. **Scaling:** Multiply a 2D vector by 2:  \n",
        "\\[\n",
        "T([x,y]) = [2x, 2y]\n",
        "\\]\n",
        "\n",
        "2. **Rotation:** Rotate a 2D vector by 90°:  \n",
        "\\[\n",
        "T([x,y]) = [-y, x]\n",
        "\\]\n",
        "\n",
        "3. **Projection:** Project a 2D vector onto the x-axis:  \n",
        "\\[\n",
        "T([x,y]) = [x,0]\n",
        "\\]\n",
        "\n",
        "---\n",
        "\n",
        "###  Importance\n",
        "- Linear transformations are represented by **matrices**.  \n",
        "- They are fundamental in **ML and Data Science** for:  \n",
        "  1. Dimensionality reduction (e.g., PCA)  \n",
        "  2. Feature transformations  \n",
        "  3. Neural network layers (matrix multiplications)  \n",
        "\n",
        "---\n",
        "\n",
        " **In short:**  \n",
        "A linear transformation = a function that **reshapes, rotates, scales, or projects vectors** without breaking the rules of vector addition and scalar multiplication.\n"
      ],
      "metadata": {
        "id": "7t9s1TuPOTgr"
      }
    },
    {
      "cell_type": "code",
      "execution_count": null,
      "metadata": {
        "colab": {
          "base_uri": "https://localhost:8080/"
        },
        "id": "rmFCA94rM45k",
        "outputId": "c44f1594-e9e8-465d-f488-1da970827c19"
      },
      "outputs": [
        {
          "output_type": "stream",
          "name": "stdout",
          "text": [
            "original vector: [2 3]\n",
            "scaled vector: [4 6]\n",
            "when [2 3] is rotated by 90 degree it gives : [ 3 -2]\n",
            "when [2 3] is projected in x axis it gives [2 0]\n"
          ]
        }
      ],
      "source": [
        "# Example of linear transformation\n",
        "import numpy as np\n",
        "v = np.array([2,3])\n",
        "print(\"original vector:\",v)\n",
        "\n",
        "#  scaling by 2\n",
        "print(\"scaled vector:\",2*v)\n",
        "\n",
        "# rotating a vector by 90 degree\n",
        "def rotate_90(v):\n",
        "    projection_matirx = np.array([[0,1],\n",
        "                                  [-1,0]]) # rotated by\n",
        "\n",
        "    return projection_matirx.dot(v) # return projection_matrix @ v\n",
        "\n",
        "print(f\"when {v} is rotated by 90 degree it gives :\",rotate_90(v))\n",
        "\n",
        "# projection on x axis\n",
        "def project_on_x(v):\n",
        "    projection_matirx = np.array([[1,0],\n",
        "                                  [0,0]]) # projected to the axis\n",
        "\n",
        "    return projection_matirx.dot(v) # return projection_matrix @ v\n",
        "\n",
        "print(f\"when {v} is projected in x axis it gives\",project_on_x(v))"
      ]
    },
    {
      "cell_type": "markdown",
      "source": [
        "### Linear Transformation (Inline)\n",
        "\n",
        "Given a 2x2 matrix M = [[a, b], [c, d]] and a vector v = [x, y], the transformed vector is:\n",
        "\n",
        "v_new = x * [a, c] + y * [b, d] = [a*x + b*y, c*x + d*y]\n"
      ],
      "metadata": {
        "id": "_573fjQhRi9Q"
      }
    },
    {
      "cell_type": "markdown",
      "source": [
        "### Linear Transformation Problem\n",
        "\n",
        "Given the input vector [3, -4] and the linear transformation matrix [[1, -6], [4, 2]], what is the resulting transformed vector?\n"
      ],
      "metadata": {
        "id": "e2Oj8ffTShlw"
      }
    },
    {
      "cell_type": "code",
      "source": [
        "import numpy as np\n",
        "\n",
        "# define the transformation matrix\n",
        "transformation = np.array([[1,-6],[4,2]])\n",
        "\n",
        "# define the input vector\n",
        "v = np.array([3,-4])\n",
        "\n",
        "# apply the linear tranformation\n",
        "v_new = transformation.dot(v)\n",
        "\n",
        "print(v_new)"
      ],
      "metadata": {
        "colab": {
          "base_uri": "https://localhost:8080/"
        },
        "id": "JeZMHlTeM9-3",
        "outputId": "b56b3ee7-2d83-43cc-d5fe-a688527b33f5"
      },
      "execution_count": null,
      "outputs": [
        {
          "output_type": "stream",
          "name": "stdout",
          "text": [
            "[27  4]\n"
          ]
        }
      ]
    },
    {
      "cell_type": "markdown",
      "source": [
        "#  Shear Transformation\n",
        "\n",
        "###  Definition\n",
        "- A **shear** is a type of linear transformation that **slants the shape of an object**.\n",
        "- Unlike scaling (which changes size) or rotation (which changes orientation), shear changes the **shape** while keeping areas aligned.\n",
        "\n",
        "---\n",
        "\n",
        "###  Vector Form\n",
        "In 2D, a shear transformation is usually represented by a **matrix**:\n",
        "\n",
        "- **Horizontal shear:**\n",
        "\\[\n",
        "\\begin{bmatrix} 1 & k \\\\ 0 & 1 \\end{bmatrix}\n",
        "\\]\n",
        "This shifts vectors horizontally, depending on their y-coordinate.\n",
        "\n",
        "- **Vertical shear:**\n",
        "\\[\n",
        "\\begin{bmatrix} 1 & 0 \\\\ k & 1 \\end{bmatrix}\n",
        "\\]\n",
        "This shifts vectors vertically, depending on their x-coordinate.\n",
        "\n",
        "---\n",
        "\n",
        "###  Example\n",
        "- If \\(k = 1\\), applying a horizontal shear to \\([2,3]\\) gives:\n",
        "\\[\n",
        "[2 + 1 \\cdot 3, \\; 3] = [5,3]\n",
        "\\]\n",
        "\n",
        "---\n",
        "\n",
        " **In short:** Shear transformations “push” vectors sideways (or up/down), distorting shapes into slanted forms while preserving parallelism of lines.\n"
      ],
      "metadata": {
        "id": "xt1s6P2mwYOk"
      }
    },
    {
      "cell_type": "code",
      "source": [
        "import numpy as np\n",
        "import matplotlib.pyplot as plt\n",
        "\n",
        "# original vectors\n",
        "vectors = np.array([[2,0],[0,2],[2,3]])  # basis plus one extra vector\n",
        "\n",
        "# shear matrix (horizontal shear with k = 1)\n",
        "shear_matirx = np.array([[1,1],\n",
        "                         [0,1]])\n",
        "\n",
        "# apply shear\n",
        "sheared_vectors = vectors.dot(shear_matirx.T)\n",
        "print(sheared_vectors)\n",
        "\n",
        "# Plot original vectors\n",
        "plt.axhline(0, color='black', linewidth=0.5)\n",
        "plt.axvline(0, color='black', linewidth=0.5)\n",
        "\n",
        "for v in vectors:\n",
        "  plt.quiver(0,0,v[0],v[1],angles='xy',scale_units='xy',scale=1,color='r')\n",
        "\n",
        "# plotting all the vectors in sheared_vectors\n",
        "for v in sheared_vectors:\n",
        "  plt.quiver(0,0,v[0],v[1],angles='xy',scale_units='xy',scale=1,color='b')\n",
        "\n",
        "\n",
        "# fixing the axis\n",
        "plt.xlim(-5,5) # sets the appropriate value for x axis\n",
        "plt.ylim(-5,5) # sets the appropriate value for y axis\n",
        "plt.gca().set_aspect('equal') # makes the plot look more appealing\n",
        "plt.title(\"Blue = Original, Red = Sheared (Horizontal Shear)\")\n",
        "plt.show()"
      ],
      "metadata": {
        "colab": {
          "base_uri": "https://localhost:8080/",
          "height": 504
        },
        "id": "fKzBq4w_M-Bm",
        "outputId": "5bdd9069-0bb6-4e70-8524-597287e002c0"
      },
      "execution_count": null,
      "outputs": [
        {
          "output_type": "stream",
          "name": "stdout",
          "text": [
            "[[2 0]\n",
            " [2 2]\n",
            " [5 3]]\n"
          ]
        },
        {
          "output_type": "display_data",
          "data": {
            "text/plain": [
              "<Figure size 640x480 with 1 Axes>"
            ],
            "image/png": "[encoded data removed]"
          },
          "metadata": {}
        }
      ]
    }
  ]
}