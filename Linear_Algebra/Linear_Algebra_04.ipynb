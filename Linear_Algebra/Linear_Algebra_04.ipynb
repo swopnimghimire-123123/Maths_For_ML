{
  "nbformat": 4,
  "nbformat_minor": 0,
  "metadata": {
    "colab": {
      "provenance": [],
      "authorship_tag": "ABX9TyNTqa5DcjmPr4L1PMjbKNmz",
      "include_colab_link": true
    },
    "kernelspec": {
      "name": "python3",
      "display_name": "Python 3"
    },
    "language_info": {
      "name": "python"
    }
  },
  "cells": [
    {
      "cell_type": "markdown",
      "metadata": {
        "id": "view-in-github",
        "colab_type": "text"
      },
      "source": [
        "<a href=\"https://colab.research.google.com/github/swopnimghimire-123123/Maths_For_ML/blob/main/Linear_Algebra_04.ipynb\" target=\"_parent\"><img src=\"https://colab.research.google.com/assets/colab-badge.svg\" alt=\"Open In Colab\"/></a>"
      ]
    },
    {
      "cell_type": "markdown",
      "source": [
        "#  Matrix Multiplication\n",
        "\n",
        "---\n",
        "\n",
        "###  Example\n",
        "Let:\n",
        "\\[\n",
        "  A = \\begin{bmatrix} 1 & 2 \\\\ 3 & 4 \\end{bmatrix},\n",
        "B = \\begin{bmatrix} 5 & 6 \\\\ 7 & 8 \\end{bmatrix}\n",
        "\\]\n",
        "\n",
        "Then:\n",
        "\\[\n",
        "A times B =\n",
        "\\begin{bmatrix}\n",
        "1\\cdot5 + 2\\cdot7 & 1\\cdot6 + 2\\cdot8 \\\\\n",
        "3\\cdot5 + 4\\cdot7 & 3\\cdot6 + 4\\cdot8\n",
        "\\end{bmatrix}\n",
        "=\n",
        "\\begin{bmatrix}\n",
        "19 & 22 \\\\\n",
        "43 & 50\n",
        "\\end{bmatrix}\n",
        "\\]\n",
        "\n",
        "---\n",
        "\n",
        "###  Key Points\n",
        "\n",
        "- Dimensions must match: (columns of \\(A\\)) = (rows of \\(B\\)).  \n",
        "- Special cases: multiplying by identity matrix leaves a matrix unchanged.\n"
      ],
      "metadata": {
        "id": "HRaeDE1K6eBw"
      }
    },
    {
      "cell_type": "code",
      "execution_count": null,
      "metadata": {
        "colab": {
          "base_uri": "https://localhost:8080/"
        },
        "id": "ukMwkakx08ko",
        "outputId": "bd45f210-8ec4-469e-9332-6f0b1283d0d8"
      },
      "outputs": [
        {
          "output_type": "stream",
          "name": "stdout",
          "text": [
            "Matrix a:\n",
            " [[2 3]\n",
            " [3 4]]\n",
            "Matrix b:\n",
            " [[4 5]\n",
            " [6 7]]\n",
            "Product of a and b is: [[26 31]\n",
            " [36 43]]\n"
          ]
        }
      ],
      "source": [
        "import numpy as np\n",
        "\n",
        "# define two matrix\n",
        "a = np.array([[2,3]\n",
        "              ,[3,4]])\n",
        "b = np.array([[4,5],\n",
        "              [6,7]])\n",
        "\n",
        "# multiply\n",
        "c = a @ b\n",
        "print(\"Matrix a:\\n\",a)\n",
        "print(\"Matrix b:\\n\",b)\n",
        "print(\"Product of a and b is:\",c)"
      ]
    },
    {
      "cell_type": "markdown",
      "source": [
        "#  Shear Followed by Rotation\n",
        "\n",
        "###  Concept\n",
        "- Linear transformations can be **combined** by multiplying their matrices.  \n",
        "- If you apply a **shear first** and then a **rotation**, the overall transformation matrix is:\n",
        "\n",
        "\\[\n",
        "M = R \\cdot S\n",
        "\\]\n",
        "\n",
        "where:  \n",
        "- \\(S\\) = shear matrix  \n",
        "- \\(R\\) = rotation matrix  \n",
        "\n",
        "Then, for a vector \\(v\\):\n",
        "\n",
        "\\[\n",
        "v_{\\text{new}} = R \\cdot (S \\cdot v) = (R \\cdot S) \\cdot v\n",
        "\\]\n",
        "\n",
        "---\n",
        "\n",
        "###  Example\n",
        "1. **Shear matrix** (horizontal shear with factor \\(k=1\\)):  \n",
        "\\[\n",
        "S = \\begin{bmatrix} 1 & 1 \\\\ 0 & 1 \\end{bmatrix}\n",
        "\\]\n",
        "\n",
        "2. **Rotation matrix** (rotate by 90°):  \n",
        "\\[\n",
        "R = \\begin{bmatrix} 0 & -1 \\\\ 1 & 0 \\end{bmatrix}\n",
        "\\]\n",
        "\n",
        "3. Applying to vector \\(v = [2,3]\\):  \n",
        "- First shear: \\(S \\cdot v\\)  \n",
        "- Then rotation: \\(R \\cdot (S \\cdot v)\\)  \n"
      ],
      "metadata": {
        "id": "ojKkhGOi8QiO"
      }
    },
    {
      "cell_type": "code",
      "source": [
        "import numpy as np\n",
        "\n",
        "# define vectors\n",
        "v = np.array([2,3])\n",
        "\n",
        "# shear matrix\n",
        "s = np.array([[1,1],\n",
        "              [1,0]])\n",
        "\n",
        "# rotation matrix\n",
        "r = np.array([[0,-1],\n",
        "              [1,0]])\n",
        "\n",
        "# print the original v\n",
        "print(\"The original vector is \",v)\n",
        "\n",
        "# apply the shear first\n",
        "v_shear = s @ v\n",
        "print(\"The matrix after shear is \",v_shear)\n",
        "\n",
        "# apply the rotation\n",
        "v_final = r @ v_shear\n",
        "print(\"The matrix after rotation is \",v_final)"
      ],
      "metadata": {
        "colab": {
          "base_uri": "https://localhost:8080/"
        },
        "id": "S7HgL0Y60_tG",
        "outputId": "99940bbb-a968-4eb8-fb2a-4411a7e93b2e"
      },
      "execution_count": null,
      "outputs": [
        {
          "output_type": "stream",
          "name": "stdout",
          "text": [
            "The original vector is  [2 3]\n",
            "The matrix after shear is  [5 2]\n",
            "The matrix after rotation is  [-2  5]\n"
          ]
        }
      ]
    },
    {
      "cell_type": "markdown",
      "source": [
        "#  Properties of Vectors\n",
        "\n",
        "###  1. Addition\n",
        "- Vectors can be **added** component-wise.\n",
        "- Example: [2, 3] + [1, -4] = [3, -1]\n",
        "\n",
        "###  2. Scalar Multiplication\n",
        "- Multiplying a vector by a scalar **stretches or shrinks** it.\n",
        "- Example: 3 * [2, 3] = [6, 9]\n",
        "\n",
        "###  3. Magnitude (Length)\n",
        "- The length of a vector v = [x, y] is:\n",
        "\\[\n",
        "||v|| = \\sqrt{x^2 + y^2}\n",
        "\\]\n",
        "\n",
        "###  4. Unit Vector\n",
        "- A vector with magnitude 1.\n",
        "- Found by dividing a vector by its magnitude.\n",
        "\\[\n",
        "u = \\frac{v}{||v||}\n",
        "\\]\n",
        "\n",
        "###  5. Dot Product\n",
        "- Measures projection / angle similarity between vectors.\n",
        "- Formula for v = [x1, y1], w = [x2, y2]:\n",
        "\\[\n",
        "v \\cdot w = x1 \\cdot x2 + y1 \\cdot y2\n",
        "\\]\n",
        "\n",
        "###  6. Orthogonality\n",
        "- Two vectors are **orthogonal** if their dot product = 0.\n"
      ],
      "metadata": {
        "id": "loRQ-2Vf93Uy"
      }
    },
    {
      "cell_type": "code",
      "source": [
        "import numpy as np\n",
        "\n",
        "v = np.array([2,3])\n",
        "w = np.array([1,-4])\n",
        "\n",
        "# addition\n",
        "print(\"Addition: \",a+b)\n",
        "\n",
        "# scaler multiplication\n",
        "print(\"Scaler Multiplication: \",3*v)\n",
        "\n",
        "# magnitude\n",
        "print(\"Magnitude: \",np.linalg.norm(v))\n",
        "\n",
        "# unit vector\n",
        "print(\"Unit vector of v is: \", v / (np.linalg.norm(v)))\n",
        "\n",
        "# dot product\n",
        "print(\"Dot Product: \",np.dot(v,w))\n",
        "\n",
        "# orthogonal\n",
        "dot = np.dot(v,w)\n",
        "print(\"Dot product: \",dot)\n",
        "if dot == 0:\n",
        "  print(\"v and w are orthogonal\")\n",
        "else:\n",
        "  print(\"v and w are not orthogonal\")"
      ],
      "metadata": {
        "colab": {
          "base_uri": "https://localhost:8080/"
        },
        "id": "srq3bA2v0_wH",
        "outputId": "d07cb116-b198-4ba7-d003-cf1315bb1454"
      },
      "execution_count": null,
      "outputs": [
        {
          "output_type": "stream",
          "name": "stdout",
          "text": [
            "Addition:  [[ 6  8]\n",
            " [ 9 11]]\n",
            "Scaler Multiplication:  [6 9]\n",
            "Magnitude:  3.605551275463989\n",
            "Unit vector of v is:  [0.5547002  0.83205029]\n",
            "Dot Product:  -10\n",
            "Dot product:  -10\n",
            "v and w are not orthogonal\n"
          ]
        }
      ]
    }
  ]
}
