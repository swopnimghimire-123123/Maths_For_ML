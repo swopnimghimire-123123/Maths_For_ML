{
  "nbformat": 4,
  "nbformat_minor": 0,
  "metadata": {
    "colab": {
      "provenance": [],
      "authorship_tag": "ABX9TyMfW9a9dRzB/Py6rluaCMxa",
      "include_colab_link": true
    },
    "kernelspec": {
      "name": "python3",
      "display_name": "Python 3"
    },
    "language_info": {
      "name": "python"
    }
  },
  "cells": [
    {
      "cell_type": "markdown",
      "metadata": {
        "id": "view-in-github",
        "colab_type": "text"
      },
      "source": [
        "<a href=\"https://colab.research.google.com/github/swopnimghimire-123123/Maths_For_ML/blob/main/Linear_Algebra_02.ipynb\" target=\"_parent\"><img src=\"https://colab.research.google.com/assets/colab-badge.svg\" alt=\"Open In Colab\"/></a>"
      ]
    },
    {
      "cell_type": "markdown",
      "source": [
        "### Basis Vectors and Representation\n",
        "\n",
        "The **i** and **j** vectors, representing one unit along the x-axis and y-axis respectively, are called **basis vectors**.  \n",
        "\n",
        "You can think of the vector `[2, 3]` as:  \n",
        "- 2 times the **i** vector  \n",
        "- 3 times the **j** vector  \n",
        "\n",
        "**Vector:** [2, 3]  \n",
        "\n",
        "**Becomes:** 2i + 3j\n"
      ],
      "metadata": {
        "id": "FY_wz0ynqWt-"
      }
    },
    {
      "cell_type": "markdown",
      "source": [
        "# Change in basis"
      ],
      "metadata": {
        "id": "O0dolV_6rn3f"
      }
    },
    {
      "cell_type": "markdown",
      "source": [
        "#  Change of Basis – Theory\n",
        "\n",
        "###  What is a Basis?\n",
        "- A **basis** is a set of linearly independent vectors that span a vector space.  \n",
        "- In 2D, the standard basis is:\n",
        "  - **i = [1,0]**\n",
        "  - **j = [0,1]**\n",
        "- Any vector (e.g., [2,3]) can be written as:\n",
        "  \\[\n",
        "  [2,3] = 2i + 3j\n",
        "  \\]\n",
        "\n",
        "---\n",
        "\n",
        "###  Change of Basis\n",
        "- The **same vector** can have **different coordinates** if we choose a different basis.  \n",
        "- Example:  \n",
        "  Suppose the new basis is:\n",
        "  \\[\n",
        "  b_1 = [1,1], \\quad b_2 = [1,-1]\n",
        "  \\]\n",
        "  Then the vector [2,3] can be expressed as a combination of \\(b_1\\) and \\(b_2\\).\n",
        "\n",
        "- This does **not** change the vector itself (its position in space stays the same),  \n",
        "  only the **numbers used to describe it**.\n",
        "\n",
        "---\n",
        "\n",
        "###  Why Important?\n",
        "1. **PCA (Principal Component Analysis):** Data is expressed in a new basis aligned with directions of maximum variance.  \n",
        "2. **Fourier Transform:** A change of basis from time-domain to frequency-domain.  \n",
        "3. **Simplification:** In the right basis, matrices become diagonal (easier math).  \n",
        "4. **Machine Learning:** Embeddings (e.g., word vectors) are alternative bases for representing data.\n",
        "\n",
        "---\n",
        "\n",
        " **In short:**  \n",
        "A **change of basis** is like changing your \"coordinate system.\"  \n",
        "The vector itself stays the same, but its coordinates (the way we describe it) change.\n"
      ],
      "metadata": {
        "id": "asfU-HFCsmvA"
      }
    },
    {
      "cell_type": "code",
      "execution_count": null,
      "metadata": {
        "colab": {
          "base_uri": "https://localhost:8080/"
        },
        "id": "fSLxLr9KpKnF",
        "outputId": "0797d5d5-66eb-4211-974a-b1eb43b7f6d3"
      },
      "outputs": [
        {
          "output_type": "stream",
          "name": "stdout",
          "text": [
            "Original vector (standard basis): [2 3]\n",
            "New basis vectors:\n",
            " [[ 1  1]\n",
            " [ 1 -1]]\n",
            "Coordinates of v in new basis: [ 2.5 -0.5]\n",
            "Reconstructed vector: [2. 3.]\n"
          ]
        }
      ],
      "source": [
        "import numpy as np\n",
        "\n",
        "# Original vector in standard basis\n",
        "v = np.array([2, 3])\n",
        "print(\"Original vector (standard basis):\", v)\n",
        "\n",
        "# Define a new basis (must be linearly independent)\n",
        "b1 = np.array([1, 1])\n",
        "b2 = np.array([1, -1])\n",
        "B = np.column_stack((b1, b2))  # Basis matrix\n",
        "\n",
        "print(\"New basis vectors:\\n\", B)\n",
        "\n",
        "# Step 1: Find coordinates of v in new basis\n",
        "# Solve B * coords = v\n",
        "coords = np.linalg.solve(B,v)\n",
        "print(\"Coordinates of v in new basis:\", coords)\n",
        "\n",
        "# Step 2: Reconstruct v back from new basis\n",
        "v_reconstruct = B @ coords\n",
        "print(\"Reconstructed vector:\", v_reconstruct)"
      ]
    },
    {
      "cell_type": "markdown",
      "source": [
        "#  Linear Combinations – Theory\n",
        "\n",
        "###  Definition\n",
        "- A **linear combination** of vectors is a sum of those vectors multiplied by scalars (numbers).  \n",
        "\n",
        "\n",
        "---\n",
        "\n",
        "###  Examples\n",
        "1. Let \\(v_1 = [1,0]\\), \\(v_2 = [0,1]\\) (standard basis in 2D).  \n",
        "   A vector \\([2,3]\\) can be written as:\n",
        "   \\[\n",
        "   [2,3] = 2 \\cdot v_1 + 3 \\cdot v_2\n",
        "   \\]\n",
        "\n",
        "2. In 3D, if \\(v_1=[1,0,0], v_2=[0,1,0], v_3=[0,0,1]\\), then\n",
        "\\[\n",
        "[2,3,4] = 2v_1 + 3v_2 + 4v_3\n",
        "\\]\n",
        "\n",
        "---\n",
        "\n",
        "###  Importance\n",
        "- Linear combinations are the **building blocks of vector spaces**.  \n",
        "- They help determine:\n",
        "  1. **Span** – the set of all possible linear combinations of given vectors.  \n",
        "  2. **Basis** – minimal set of vectors whose linear combinations can describe all vectors in the space.  \n",
        "- In **ML**, data points, feature vectors, and transformations often use linear combinations.\n",
        "\n",
        "---\n",
        "\n",
        " **In short:**  \n",
        "A linear combination = multiplying vectors by numbers (scalars) and adding them together to make a new vector.\n"
      ],
      "metadata": {
        "id": "Je6iZnOUtRS7"
      }
    },
    {
      "cell_type": "code",
      "source": [
        "# linear combination\n",
        "import numpy as np\n",
        "\n",
        "# defining vectors\n",
        "v1 = np.array([1,0])\n",
        "v2 = np.array([0,1])\n",
        "\n",
        "# scalers\n",
        "c1 = 2\n",
        "c2 = 3\n",
        "\n",
        "# linear combination\n",
        "result = c1*v1 + c2*v2\n",
        "print(\"Linear combination of 2-d basis vector:\",result)\n",
        "\n",
        "# another example in 3 dimensions\n",
        "v3 = np.array([1,0,0])\n",
        "v4 = np.array([0,1,0])\n",
        "v5 = np.array([0,0,1])\n",
        "\n",
        "c3 = 2\n",
        "c4 = 3\n",
        "c5 = 4\n",
        "\n",
        "result2 = c3*v3 + c4*v4 + c5*v5\n",
        "print(\"Linear combination of 3-d basis vector:\",result2)"
      ],
      "metadata": {
        "colab": {
          "base_uri": "https://localhost:8080/"
        },
        "id": "_X-ztNRvpOC1",
        "outputId": "c42d0093-84b2-4be6-aaf2-6c00b23f56ca"
      },
      "execution_count": null,
      "outputs": [
        {
          "output_type": "stream",
          "name": "stdout",
          "text": [
            "Linear combination of 2-d basis vector: [2 3]\n",
            "Linear combination of 3-d basis vector: [2 3 4]\n"
          ]
        }
      ]
    },
    {
      "cell_type": "markdown",
      "source": [
        "#  Span – Theory\n",
        "\n",
        "###  Definition\n",
        "- The **span** of a set of vectors is the set of **all possible linear combinations** of those vectors.  \n",
        "\n",
        "---\n",
        "\n",
        "###  Examples\n",
        "1. 2D example:  \n",
        "   - Vectors: \\(v_1=[1,0], v_2=[0,1]\\)  \n",
        "   - Span\\(\\{v_1,v_2\\}\\) = **all vectors in 2D space** because any vector \\([x,y]\\) can be written as a linear combination of \\(v_1\\) and \\(v_2\\).\n",
        "\n",
        "2. Single vector:  \n",
        "   - Vector: \\(v=[1,2]\\)  \n",
        "   - Span\\(\\{v\\}\\) = **all vectors on the line through the origin in the direction of \\(v\\)**.\n",
        "\n",
        "---\n",
        "\n",
        "###  Importance\n",
        "- **Span determines the \"reach\" of vectors**: how much of the space they can cover via linear combinations.  \n",
        "- Related concepts:  \n",
        "  1. **Linear Independence** – if vectors are independent, their span is “maximal” in that space.  \n",
        "  2. **Basis** – a minimal set of vectors whose span is the entire space.  \n",
        "- In **ML**, span relates to feature representation and the dimension of the space your data occupies.\n",
        "\n",
        "---\n",
        "\n",
        " **In short:**  \n",
        "The set of all possible vectors you can reach with linear combinations of a given pair of vectors is called the \"span\" of those two vectors.\n"
      ],
      "metadata": {
        "id": "eyqMf81au2yR"
      }
    },
    {
      "cell_type": "code",
      "source": [
        "import numpy as np\n",
        "\n",
        "# define a 2d vector\n",
        "v1 = np.array([1,0])\n",
        "v2 = np.array([0,1])\n",
        "\n",
        "print(\"vectors in the span:\")\n",
        "# example linear combination of the span\n",
        "print( 2*v1 + v2 )\n",
        "print( 3*v1 + v2 )\n",
        "print( 0.5*v1 + 0.75*v2 )\n",
        "\n",
        "print(\"\\nsome more examples of span:\")\n",
        "# Another example: span of a single vector\n",
        "v = np.array([1, 2])\n",
        "scalars = [-2, -1, 0, 1, 2, 5, 4, 3, 2, 1, 5, 7, 0]\n",
        "span_vectors = [i*v for i in scalars]\n",
        "print(\"Span of [1,2]:\", span_vectors)"
      ],
      "metadata": {
        "colab": {
          "base_uri": "https://localhost:8080/"
        },
        "id": "9a3Ip8kDpOFk",
        "outputId": "7f373ed6-82a6-4ac1-e99d-958c1db4869c"
      },
      "execution_count": null,
      "outputs": [
        {
          "output_type": "stream",
          "name": "stdout",
          "text": [
            "vectors in the span:\n",
            "[2 1]\n",
            "[3 1]\n",
            "[0.5  0.75]\n",
            "\n",
            "some more examples of span:\n",
            "Span of [1,2]: [array([-2, -4]), array([-1, -2]), array([0, 0]), array([1, 2]), array([2, 4]), array([ 5, 10]), array([4, 8]), array([3, 6]), array([2, 4]), array([1, 2]), array([ 5, 10]), array([ 7, 14]), array([0, 0])]\n"
          ]
        }
      ]
    },
    {
      "cell_type": "markdown",
      "source": [
        "### Visualizing Collections of Vectors\n",
        "\n",
        "It gets very crowded to think about a whole collection of vectors sitting on a line, and even more crowded to think about all two-dimensional vectors at once, filling up the plane.  \n",
        "\n",
        "So, when dealing with collections of vectors like this, it is common to represent each one **just with a point in space**—the point at the **tip of the vector**.\n"
      ],
      "metadata": {
        "id": "O32tB4BDw8MW"
      }
    },
    {
      "cell_type": "markdown",
      "source": [
        "#  Linear Independence and Dependence – Theory\n",
        "\n",
        "###  Linear Independence\n",
        "- A set of vectors \\(\\{v_1, v_2, \\dots, v_n\\}\\) is **linearly independent** if **no vector in the set can be written as a linear combination of the others**.  \n",
        "- Mathematically:\n",
        "\\[\n",
        "c_1v_1 + c_2v_2 + \\dots + c_nv_n = 0 \\implies c_1 = c_2 = \\dots = c_n = 0\n",
        "\\]  \n",
        "- Example in 2D: \\(v_1 = [1,0], v_2 = [0,1]\\) → independent, because neither vector can be made from the other.\n",
        "\n",
        "---\n",
        "\n",
        "###  Linear Dependence\n",
        "- A set of vectors is **linearly dependent** if **at least one vector can be written as a combination of the others**.  \n",
        "- Example in 2D: \\(v_1=[1,0], v_2=[2,0]\\) → dependent, because \\(v_2 = 2 \\cdot v_1\\).\n",
        "\n",
        "---\n",
        "\n",
        "###  Importance\n",
        "1. **Basis** – only linearly independent vectors can form a basis.  \n",
        "2. **Span** – dependent vectors do not add new dimensions to the span.  \n",
        "3. **ML / DS** – redundancy in features (multicollinearity) is a case of linear dependence.\n",
        "\n",
        "---\n",
        "\n",
        " **In short:**  \n",
        "- **Independent:** No vector is redundant.  \n",
        "- **Dependent:** Some vector(s) can be made from others.\n"
      ],
      "metadata": {
        "id": "B_xraVa4x4dx"
      }
    },
    {
      "cell_type": "code",
      "source": [
        "#  Linear Independence / Dependence – Python Example\n",
        "import numpy as np\n",
        "\n",
        "# Linearly independent vectors in 2D\n",
        "v1 = np.array([1,0])\n",
        "v2 = np.array([0,1])\n",
        "\n",
        "# Check determinant of matrix formed by stacking vectors\n",
        "matrix_indep = np.column_stack((v1,v2))\n",
        "det = np.linalg.det(matrix_indep)\n",
        "print(\"Determinant (independent check):\", det)\n",
        "# Non-zero determinant is independent\n",
        "\n",
        "# linearly dependent vectors\n",
        "v3 = np.array([1,2])\n",
        "v4 = np.array([2,4])\n",
        "\n",
        "matrix_dep = np.column_stack((v3,v4))\n",
        "det = np.linalg.det(matrix_dep)\n",
        "print(\"Determinant (dependent check):\", det)\n",
        "# zero determinant matirx is dependent\n",
        "\n",
        "# we can also use if else to simply get the result of dependency"
      ],
      "metadata": {
        "id": "dSxz3xqIpOIP",
        "colab": {
          "base_uri": "https://localhost:8080/"
        },
        "outputId": "af8dc921-d246-4411-db64-f93f7202c603"
      },
      "execution_count": null,
      "outputs": [
        {
          "output_type": "stream",
          "name": "stdout",
          "text": [
            "Determinant (independent check): 1.0\n",
            "Determinant (dependent check): 0.0\n"
          ]
        }
      ]
    },
    {
      "cell_type": "markdown",
      "source": [
        "#  Span in 3D – Theory\n",
        "\n",
        "###  Definition\n",
        "- The **span** of a set of 3D vectors is the set of **all possible linear combinations** of those vectors.  \n",
        "- If you have vectors \\(v_1, v_2, v_3\\), the span is:\n",
        "\\[\n",
        "\\text{Span}\\{v_1, v_2, v_3\\} = \\{c_1v_1 + c_2v_2 + c_3v_3 \\mid c_1, c_2, c_3 \\in \\mathbb{R}\\}\n",
        "\\]\n",
        "\n",
        "---\n",
        "\n",
        "###  Examples\n",
        "1. Three vectors in 3D:  \n",
        "   \\[\n",
        "   v_1=[1,0,0], \\quad v_2=[0,1,0], \\quad v_3=[0,0,1]\n",
        "   \\]  \n",
        "   - Span\\(\\{v_1,v_2,v_3\\}\\) = **all vectors in 3D space** (the entire 3D space).\n",
        "\n",
        "2. Two vectors in 3D:  \n",
        "   \\[\n",
        "   v_1=[1,0,0], \\quad v_2=[0,1,0]\n",
        "   \\]  \n",
        "   - Span\\(\\{v_1,v_2\\}\\) = **all vectors in the XY-plane** (a 2D plane in 3D space).\n",
        "\n",
        "3. Single vector in 3D:  \n",
        "   - Span\\(\\{v_1\\}\\) = **all vectors along the line in the direction of \\(v_1\\)**.\n",
        "\n",
        "---\n",
        "\n",
        "###  Importance\n",
        "- Determines how much of the 3D space the vectors “cover.”  \n",
        "- Related to **linear independence** and **basis**.  \n",
        "- In **ML / Data Science**, understanding the span helps identify the **dimension of the data** and redundancy in features.\n",
        "\n",
        "---\n",
        "\n",
        " **In short:**  \n",
        "The span of 3D vectors = all vectors you can make using **any combination of those vectors**, forming lines, planes, or the whole 3D space.\n"
      ],
      "metadata": {
        "id": "QXoXRVqXBWG-"
      }
    },
    {
      "cell_type": "code",
      "source": [
        "\"\"\" it's not just limited to these set of vectors as span is the\n",
        " collection of all the vectors within the space that can be reached by\n",
        " some sort of linear combination \"\"\"\n",
        "\n",
        "import numpy as np\n",
        "\n",
        "v1 = np.array([1,0,0])\n",
        "v2 = np.array([0,1,0])\n",
        "v3 = np.array([0,0,1])\n",
        "\n",
        "scaler = [11,2,3,4,5,6,6,7,7,8,99,10]\n",
        "print(\"some examples of all the span vectors that lie in the 3d space\")\n",
        "for i in scaler:\n",
        "  print(v1*i)\n",
        "  print(v2*i)\n",
        "  print(v3*i)\n"
      ],
      "metadata": {
        "id": "LUC-H2kNpOLI",
        "colab": {
          "base_uri": "https://localhost:8080/"
        },
        "outputId": "c76cd33b-8836-45a1-cf0c-81ca16480d9b"
      },
      "execution_count": null,
      "outputs": [
        {
          "output_type": "stream",
          "name": "stdout",
          "text": [
            "some examples of all the span vectors that lie in the 3d space\n",
            "[11  0  0]\n",
            "[ 0 11  0]\n",
            "[ 0  0 11]\n",
            "[2 0 0]\n",
            "[0 2 0]\n",
            "[0 0 2]\n",
            "[3 0 0]\n",
            "[0 3 0]\n",
            "[0 0 3]\n",
            "[4 0 0]\n",
            "[0 4 0]\n",
            "[0 0 4]\n",
            "[5 0 0]\n",
            "[0 5 0]\n",
            "[0 0 5]\n",
            "[6 0 0]\n",
            "[0 6 0]\n",
            "[0 0 6]\n",
            "[6 0 0]\n",
            "[0 6 0]\n",
            "[0 0 6]\n",
            "[7 0 0]\n",
            "[0 7 0]\n",
            "[0 0 7]\n",
            "[7 0 0]\n",
            "[0 7 0]\n",
            "[0 0 7]\n",
            "[8 0 0]\n",
            "[0 8 0]\n",
            "[0 0 8]\n",
            "[99  0  0]\n",
            "[ 0 99  0]\n",
            "[ 0  0 99]\n",
            "[10  0  0]\n",
            "[ 0 10  0]\n",
            "[ 0  0 10]\n"
          ]
        }
      ]
    },
    {
      "cell_type": "markdown",
      "source": [
        "#  Problem Statement\n",
        "\n",
        "Solve for scalars a and b in the vector equation: a*[2,3] + b*[-3,2] = [7,4].\n",
        "\n",
        "what are the two scalers for a and b which form the vector [7,4] if we have the coordinates of the vectors as v=[2,3] and w=[-3,2] for an vector expression a*v + b*w."
      ],
      "metadata": {
        "id": "rfGH8GCQDvbv"
      }
    },
    {
      "cell_type": "code",
      "source": [
        "import numpy as np\n",
        "\n",
        "# define the coordinate of the vectors\n",
        "coordinate = np.array([[2,-3],\n",
        "              [3,2]])\n",
        "\n",
        "# define the result vector\n",
        "result = np.array([7,4])\n",
        "\n",
        "# solve for a and b\n",
        "solution = np.linalg.solve(coordinate, result)\n",
        "\n",
        "# print the solution\n",
        "print(\"Solution:\",solution)"
      ],
      "metadata": {
        "id": "F_PqS3agpON2",
        "colab": {
          "base_uri": "https://localhost:8080/"
        },
        "outputId": "483348bf-40bc-428f-a8ab-8e8f56fb4dbd"
      },
      "execution_count": null,
      "outputs": [
        {
          "output_type": "stream",
          "name": "stdout",
          "text": [
            "Solution: [ 2. -1.]\n"
          ]
        }
      ]
    }
  ]
}
